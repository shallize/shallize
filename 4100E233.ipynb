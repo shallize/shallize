{
  "nbformat": 4,
  "nbformat_minor": 0,
  "metadata": {
    "colab": {
      "name": "4100E233.ipynb",
      "provenance": [],
      "collapsed_sections": [],
      "authorship_tag": "ABX9TyN718/Q/2D1IL9T2U5mUwSt",
      "include_colab_link": true
    },
    "kernelspec": {
      "name": "python3",
      "display_name": "Python 3"
    },
    "language_info": {
      "name": "python"
    }
  },
  "cells": [
    {
      "cell_type": "markdown",
      "metadata": {
        "id": "view-in-github",
        "colab_type": "text"
      },
      "source": [
        "<a href=\"https://colab.research.google.com/github/shallize/shallize/blob/main/4100E233.ipynb\" target=\"_parent\"><img src=\"https://colab.research.google.com/assets/colab-badge.svg\" alt=\"Open In Colab\"/></a>"
      ]
    },
    {
      "cell_type": "markdown",
      "metadata": {
        "id": "a6hQ_hljDYrL"
      },
      "source": [
        "NUMERICS DATA TYPE\n",
        "\n",
        "DATE: 20211011\n",
        "\n",
        "NAME: SHALLIZE KHAYE WENCESLAO\n",
        "\n",
        "STUDENT ID: 4100E233\n",
        "\n",
        "\n"
      ]
    },
    {
      "cell_type": "markdown",
      "metadata": {
        "id": "WpM8GwRASokp"
      },
      "source": [
        "**ARITHMETIC OPERATORS**\n",
        "\n",
        "\n"
      ]
    },
    {
      "cell_type": "code",
      "metadata": {
        "colab": {
          "base_uri": "https://localhost:8080/"
        },
        "id": "vA4dFDLF9akj",
        "outputId": "e838db1f-50fd-4e63-bf39-65efe9ff8048"
      },
      "source": [
        "x = 5\n",
        "print (x > 3 and x > 10)"
      ],
      "execution_count": 53,
      "outputs": [
        {
          "output_type": "stream",
          "name": "stdout",
          "text": [
            "False\n"
          ]
        }
      ]
    },
    {
      "cell_type": "code",
      "metadata": {
        "colab": {
          "base_uri": "https://localhost:8080/"
        },
        "id": "mOIfLSE9-Jg8",
        "outputId": "42cc01c8-062e-4143-e5fb-ba8f02af308c"
      },
      "source": [
        "a = 26 / 10\n",
        "a"
      ],
      "execution_count": 54,
      "outputs": [
        {
          "output_type": "execute_result",
          "data": {
            "text/plain": [
              "2.6"
            ]
          },
          "metadata": {},
          "execution_count": 54
        }
      ]
    },
    {
      "cell_type": "code",
      "metadata": {
        "colab": {
          "base_uri": "https://localhost:8080/"
        },
        "id": "mu1A4yzF-Nbj",
        "outputId": "b105b3b5-f024-4c8b-9922-47cf9f0576c6"
      },
      "source": [
        "b = 8 // 18\n",
        "b"
      ],
      "execution_count": 55,
      "outputs": [
        {
          "output_type": "execute_result",
          "data": {
            "text/plain": [
              "0"
            ]
          },
          "metadata": {},
          "execution_count": 55
        }
      ]
    },
    {
      "cell_type": "code",
      "metadata": {
        "colab": {
          "base_uri": "https://localhost:8080/"
        },
        "id": "UPVAx5oy-aQ6",
        "outputId": "0db3f7e5-b62e-4970-d8f0-62eaae441a7b"
      },
      "source": [
        "c = 18 % 20\n",
        "c"
      ],
      "execution_count": 56,
      "outputs": [
        {
          "output_type": "execute_result",
          "data": {
            "text/plain": [
              "18"
            ]
          },
          "metadata": {},
          "execution_count": 56
        }
      ]
    },
    {
      "cell_type": "markdown",
      "metadata": {
        "id": "hdNANAC1S46A"
      },
      "source": [
        "**LOGICAL OPERATORS**"
      ]
    },
    {
      "cell_type": "markdown",
      "metadata": {
        "id": "AihG1plhSmXr"
      },
      "source": [
        ""
      ]
    },
    {
      "cell_type": "code",
      "metadata": {
        "colab": {
          "base_uri": "https://localhost:8080/"
        },
        "id": "7_kJcivP-enR",
        "outputId": "a14f91e1-f366-4845-c2e1-5712f1bd27e8"
      },
      "source": [
        "x = 19\n",
        "print(x < 20 and x < 16)"
      ],
      "execution_count": 57,
      "outputs": [
        {
          "output_type": "stream",
          "name": "stdout",
          "text": [
            "False\n"
          ]
        }
      ]
    },
    {
      "cell_type": "code",
      "metadata": {
        "colab": {
          "base_uri": "https://localhost:8080/"
        },
        "id": "AicOqlpV-x8y",
        "outputId": "64e2a88e-7f72-4f45-b0ce-08754195f654"
      },
      "source": [
        "x = 8\n",
        "print(x > 2 and x < 7)"
      ],
      "execution_count": 58,
      "outputs": [
        {
          "output_type": "stream",
          "name": "stdout",
          "text": [
            "False\n"
          ]
        }
      ]
    },
    {
      "cell_type": "markdown",
      "metadata": {
        "id": "fvXZlbQES_vW"
      },
      "source": [
        "**BUILT-IN FUNCTIONS**"
      ]
    },
    {
      "cell_type": "code",
      "metadata": {
        "colab": {
          "base_uri": "https://localhost:8080/",
          "height": 35
        },
        "id": "5a4y12yCEe0X",
        "outputId": "213c5227-89ec-4822-e8cc-f4f83fc89286"
      },
      "source": [
        "bin(1026)"
      ],
      "execution_count": 59,
      "outputs": [
        {
          "output_type": "execute_result",
          "data": {
            "application/vnd.google.colaboratory.intrinsic+json": {
              "type": "string"
            },
            "text/plain": [
              "'0b10000000010'"
            ]
          },
          "metadata": {},
          "execution_count": 59
        }
      ]
    },
    {
      "cell_type": "code",
      "metadata": {
        "colab": {
          "base_uri": "https://localhost:8080/"
        },
        "id": "YkOD0mXEbGh5",
        "outputId": "6e34f892-1788-4702-c567-86d7a5be7ccc"
      },
      "source": [
        "abs(21)"
      ],
      "execution_count": 76,
      "outputs": [
        {
          "output_type": "execute_result",
          "data": {
            "text/plain": [
              "21"
            ]
          },
          "metadata": {},
          "execution_count": 76
        }
      ]
    },
    {
      "cell_type": "markdown",
      "metadata": {
        "id": "pe0xTTFLTQ8M"
      },
      "source": [
        "**STRING DATA TYPE**"
      ]
    },
    {
      "cell_type": "code",
      "metadata": {
        "colab": {
          "base_uri": "https://localhost:8080/"
        },
        "id": "SMogwahWE6WM",
        "outputId": "58bab91b-d028-470e-ad75-bf9267c359ca"
      },
      "source": [
        "var = \"Hello Friend!\"\n",
        "print (\"var[0]:\" , var[0])"
      ],
      "execution_count": 60,
      "outputs": [
        {
          "output_type": "stream",
          "name": "stdout",
          "text": [
            "var[0]: H\n"
          ]
        }
      ]
    },
    {
      "cell_type": "code",
      "metadata": {
        "colab": {
          "base_uri": "https://localhost:8080/"
        },
        "id": "yRi4WRxQGMBb",
        "outputId": "ad32df62-11b4-4b26-efb5-297050e0039e"
      },
      "source": [
        "b = 'Hello Friends!'\n",
        "print (b[2:5])"
      ],
      "execution_count": 61,
      "outputs": [
        {
          "output_type": "stream",
          "name": "stdout",
          "text": [
            "llo\n"
          ]
        }
      ]
    },
    {
      "cell_type": "code",
      "metadata": {
        "colab": {
          "base_uri": "https://localhost:8080/"
        },
        "id": "bBqi-WBGH_4f",
        "outputId": "6bff9e5d-b1b5-41c7-9bf1-b8e162789c66"
      },
      "source": [
        "b = 'Hello Friends!'\n",
        "print (b[0:])"
      ],
      "execution_count": 62,
      "outputs": [
        {
          "output_type": "stream",
          "name": "stdout",
          "text": [
            "Hello Friends!\n"
          ]
        }
      ]
    },
    {
      "cell_type": "code",
      "metadata": {
        "colab": {
          "base_uri": "https://localhost:8080/"
        },
        "id": "TV7p2oK6IQ7H",
        "outputId": "9caa43ab-a98f-4319-a25c-b28c1dc3a071"
      },
      "source": [
        "b = 'Hello Friends!'\n",
        "print (b[:3])"
      ],
      "execution_count": 63,
      "outputs": [
        {
          "output_type": "stream",
          "name": "stdout",
          "text": [
            "Hel\n"
          ]
        }
      ]
    },
    {
      "cell_type": "code",
      "metadata": {
        "colab": {
          "base_uri": "https://localhost:8080/"
        },
        "id": "rhhWkBIoImCr",
        "outputId": "e762dc0c-166b-4a8c-d695-04245a3d408d"
      },
      "source": [
        "b = 'Hello Friends!'\n",
        "print (b[-6:-5])"
      ],
      "execution_count": 64,
      "outputs": [
        {
          "output_type": "stream",
          "name": "stdout",
          "text": [
            "i\n"
          ]
        }
      ]
    },
    {
      "cell_type": "code",
      "metadata": {
        "colab": {
          "base_uri": "https://localhost:8080/"
        },
        "id": "Qlv60_KxJYIU",
        "outputId": "f6653702-3704-450c-9154-3a68c9112145"
      },
      "source": [
        "snake = \"ssssss\"\n",
        "x = snake.capitalize()\n",
        "print (x)\n"
      ],
      "execution_count": 65,
      "outputs": [
        {
          "output_type": "stream",
          "name": "stdout",
          "text": [
            "Ssssss\n"
          ]
        }
      ]
    },
    {
      "cell_type": "code",
      "metadata": {
        "colab": {
          "base_uri": "https://localhost:8080/"
        },
        "id": "SSTTBhgWJy2L",
        "outputId": "01f8b796-dde6-45d9-8dfb-bd9f81a020cc"
      },
      "source": [
        "myName = (\"Shallize\", \"Khaye\", \"Wenceslao\")\n",
        "x = \"#\".join(myName)\n",
        "print (x)"
      ],
      "execution_count": 66,
      "outputs": [
        {
          "output_type": "stream",
          "name": "stdout",
          "text": [
            "Shallize#Khaye#Wenceslao\n"
          ]
        }
      ]
    },
    {
      "cell_type": "code",
      "metadata": {
        "colab": {
          "base_uri": "https://localhost:8080/"
        },
        "id": "Ysl6V7O7KT9Z",
        "outputId": "847f4062-5aa3-43a4-fc8c-e063470f66b7"
      },
      "source": [
        "txt = \"violet\"\n",
        "x = txt.ljust(20)\n",
        "print(x, \"is my favorite color\")"
      ],
      "execution_count": 67,
      "outputs": [
        {
          "output_type": "stream",
          "name": "stdout",
          "text": [
            "violet               is my favorite color\n"
          ]
        }
      ]
    },
    {
      "cell_type": "markdown",
      "metadata": {
        "id": "df2DEGdsT8jQ"
      },
      "source": [
        "**LIST DATA TYPE**"
      ]
    },
    {
      "cell_type": "code",
      "metadata": {
        "colab": {
          "base_uri": "https://localhost:8080/"
        },
        "id": "HG8z6KrKLhQt",
        "outputId": "47e05895-22e7-4f87-8116-a0101b9dcd86"
      },
      "source": [
        "list1 = [10,26,11,12,27]\n",
        "list1[4]"
      ],
      "execution_count": 68,
      "outputs": [
        {
          "output_type": "execute_result",
          "data": {
            "text/plain": [
              "27"
            ]
          },
          "metadata": {},
          "execution_count": 68
        }
      ]
    },
    {
      "cell_type": "code",
      "metadata": {
        "colab": {
          "base_uri": "https://localhost:8080/"
        },
        "id": "J7waiGtaNRCv",
        "outputId": "445a1cbf-485b-4300-a2a4-a18e2098604d"
      },
      "source": [
        "list = [4,29,31,26,22]\n",
        "\n",
        "list1[1]\n",
        "list1[-3]\n",
        "list1[2:3]"
      ],
      "execution_count": 69,
      "outputs": [
        {
          "output_type": "execute_result",
          "data": {
            "text/plain": [
              "[11]"
            ]
          },
          "metadata": {},
          "execution_count": 69
        }
      ]
    },
    {
      "cell_type": "code",
      "metadata": {
        "colab": {
          "base_uri": "https://localhost:8080/"
        },
        "id": "oYWCBYi9N1dF",
        "outputId": "64ffb429-5081-4514-bf27-d5bc4540d9bb"
      },
      "source": [
        "len(list1)"
      ],
      "execution_count": 70,
      "outputs": [
        {
          "output_type": "execute_result",
          "data": {
            "text/plain": [
              "5"
            ]
          },
          "metadata": {},
          "execution_count": 70
        }
      ]
    },
    {
      "cell_type": "code",
      "metadata": {
        "colab": {
          "base_uri": "https://localhost:8080/"
        },
        "id": "tmeLcSwWN_50",
        "outputId": "3f5fba26-b09d-4162-a6af-aec87fbfca38"
      },
      "source": [
        "max(list1)"
      ],
      "execution_count": 71,
      "outputs": [
        {
          "output_type": "execute_result",
          "data": {
            "text/plain": [
              "27"
            ]
          },
          "metadata": {},
          "execution_count": 71
        }
      ]
    },
    {
      "cell_type": "code",
      "metadata": {
        "colab": {
          "base_uri": "https://localhost:8080/"
        },
        "id": "f6B6W_fmODto",
        "outputId": "6ad5f90e-7aa4-4404-a571-4cd3f53910b1"
      },
      "source": [
        "min(list1)"
      ],
      "execution_count": 72,
      "outputs": [
        {
          "output_type": "execute_result",
          "data": {
            "text/plain": [
              "10"
            ]
          },
          "metadata": {},
          "execution_count": 72
        }
      ]
    },
    {
      "cell_type": "markdown",
      "metadata": {
        "id": "sOpnElv7Z8Hp"
      },
      "source": [
        "**DICT DATA**"
      ]
    },
    {
      "cell_type": "code",
      "metadata": {
        "colab": {
          "base_uri": "https://localhost:8080/"
        },
        "id": "J01sTmKdOLD6",
        "outputId": "9b93cac2-1aae-442f-9481-c4eacee4ac52"
      },
      "source": [
        "dict = {'Name: Shallize', 'Age: 19', 'Student ID: 4100E233'}\n",
        "print(dict)\n",
        "{'Name: Shallize', 'Age: 19', 'Student ID: 4100E233'}"
      ],
      "execution_count": 73,
      "outputs": [
        {
          "output_type": "stream",
          "name": "stdout",
          "text": [
            "{'Name: Shallize', 'Student ID: 4100E233', 'Age: 19'}\n"
          ]
        },
        {
          "output_type": "execute_result",
          "data": {
            "text/plain": [
              "{'Age: 19', 'Name: Shallize', 'Student ID: 4100E233'}"
            ]
          },
          "metadata": {},
          "execution_count": 73
        }
      ]
    },
    {
      "cell_type": "code",
      "metadata": {
        "colab": {
          "base_uri": "https://localhost:8080/"
        },
        "id": "RYfugGlqPh6I",
        "outputId": "fa49cc47-abc7-4281-fa56-4f729b5a24bd"
      },
      "source": [
        "dict = {'Name': 'Shallize', 'Age': 19, 'Student ID': '4100E233'}\n",
        "print(\"dict['Age']: \", dict['Age'])"
      ],
      "execution_count": 74,
      "outputs": [
        {
          "output_type": "stream",
          "name": "stdout",
          "text": [
            "dict['Age']:  19\n"
          ]
        }
      ]
    }
  ]
}