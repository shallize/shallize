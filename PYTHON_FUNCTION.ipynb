{
  "nbformat": 4,
  "nbformat_minor": 0,
  "metadata": {
    "colab": {
      "name": "PYTHON_FUNCTION.ipynb",
      "provenance": [],
      "authorship_tag": "ABX9TyPqQIVNZ1rq6FTvSV0XKJsa",
      "include_colab_link": true
    },
    "kernelspec": {
      "name": "python3",
      "display_name": "Python 3"
    },
    "language_info": {
      "name": "python"
    }
  },
  "cells": [
    {
      "cell_type": "markdown",
      "metadata": {
        "id": "view-in-github",
        "colab_type": "text"
      },
      "source": [
        "<a href=\"https://colab.research.google.com/github/shallize/shallize/blob/main/PYTHON_FUNCTION.ipynb\" target=\"_parent\"><img src=\"https://colab.research.google.com/assets/colab-badge.svg\" alt=\"Open In Colab\"/></a>"
      ]
    },
    {
      "cell_type": "markdown",
      "metadata": {
        "id": "SwB1iAs10Keh"
      },
      "source": [
        "**NAME:** SHALLIZE KHAYE V. WENCESLAO\n",
        "\n",
        "**DATE:** OCTOBER 20, 2021\n",
        "\n",
        "**4100E233**"
      ]
    },
    {
      "cell_type": "code",
      "metadata": {
        "colab": {
          "base_uri": "https://localhost:8080/"
        },
        "id": "fM_kRs2H235u",
        "outputId": "8f94442f-5b22-4bcd-ff90-c8eed70f5d9f"
      },
      "source": [
        "def sum(i1, i2):\n",
        "  result = 0\n",
        "  for i in range(i1,i2):\n",
        "    result += i\n",
        "    return result\n",
        "\n",
        "def main():\n",
        "  print(\"Sum from 0 to 6 is\", sum(0,7))\n",
        "  print(\"Sum from 30 to 50 is\", sum(31, 51))\n",
        "  print(\"Sum from 55 to 65 is\", sum(70, 75))\n",
        "\n",
        "main() # Call the main function"
      ],
      "execution_count": 6,
      "outputs": [
        {
          "output_type": "stream",
          "name": "stdout",
          "text": [
            "Sum from 0 to 6 is 0\n",
            "Sum from 30 to 50 is 31\n",
            "Sum from 55 to 65 is 70\n"
          ]
        }
      ]
    },
    {
      "cell_type": "markdown",
      "metadata": {
        "id": "pp9HUKSkN5Fd"
      },
      "source": [
        "**SIMPLE TEST**"
      ]
    },
    {
      "cell_type": "markdown",
      "metadata": {
        "id": "ustTwVZLS69S"
      },
      "source": [
        "Please write a function sum(i1,i2,i3) that can do\n",
        "\n",
        "sum(i1,i2,i3)\n",
        "\n",
        "==> range(i1,i2,i3)\n",
        "\n",
        "def sum(i1,i2,i3)\n",
        "\n",
        "    -----your code\n",
        "\n",
        "def main(): print(\"Sum1\", sum(1, 11,2))\n",
        "print(\"Sum2\", sum(20, 38,3)) \n",
        "print(\"Sum3\", sum(35, 50,5))\n",
        "\n",
        "main() # Call the main function\n",
        "\n",
        "sum(1, 11,2)= 1+3+5+7+9\n",
        "\n",
        "sum(20, 38,3) = 20+23+26+29+32+35\n",
        "\n",
        "sum(35, 50,5)= 35+40+45\n",
        "\n",
        "sum2(20,  38,3)  =  20  +23  +26  +29+32+35+38\n",
        "\n",
        "sum2(35, 50,5)= 35+40+45+50"
      ]
    },
    {
      "cell_type": "code",
      "metadata": {
        "colab": {
          "base_uri": "https://localhost:8080/"
        },
        "id": "ay2g2t5QUvr3",
        "outputId": "b1298983-1daf-4e39-dea0-41ca44f42c9c"
      },
      "source": [
        "2+3+4+6+9"
      ],
      "execution_count": 7,
      "outputs": [
        {
          "output_type": "execute_result",
          "data": {
            "text/plain": [
              "24"
            ]
          },
          "metadata": {},
          "execution_count": 7
        }
      ]
    },
    {
      "cell_type": "code",
      "metadata": {
        "id": "Rm71a3_RU5FL"
      },
      "source": [
        "def sum(i1,i2,i3):\n",
        "  result = 0\n",
        "  for i in range(i1,i2,i3):\n",
        "     result += i\n",
        "  return result\n",
        "\n",
        "def main():\n",
        "  print(\"Sum from 1 to 5 is\", sum(2, 3,4))\n",
        "  print(\"Sum from 15 to 25 is\", sum(10, 15,20))\n",
        "  print(\"Sum from 50 to 60 is\", sum(55, 45, 35))"
      ],
      "execution_count": 8,
      "outputs": []
    },
    {
      "cell_type": "code",
      "metadata": {
        "colab": {
          "base_uri": "https://localhost:8080/"
        },
        "id": "DvW1Z5pUVptA",
        "outputId": "615a6c90-46aa-49bd-8ca8-53f86c41b4ba"
      },
      "source": [
        "def swap(a,b):\n",
        "  a,b = b,a\n",
        "  return (a,b)\n",
        "\n",
        "if __name__ == '__main__':\n",
        "  x = 7\n",
        "  y = 10\n",
        "  print('x = %d,y = %d' % (x,y))\n",
        "  x,y = swap(x,y)\n",
        "  print('x = %d,y = %d' % (x,y))"
      ],
      "execution_count": 9,
      "outputs": [
        {
          "output_type": "stream",
          "name": "stdout",
          "text": [
            "x = 7,y = 10\n",
            "x = 10,y = 7\n"
          ]
        }
      ]
    },
    {
      "cell_type": "code",
      "metadata": {
        "colab": {
          "base_uri": "https://localhost:8080/"
        },
        "id": "tRSeTy29WMko",
        "outputId": "badf231f-ed99-42c6-9881-4b05ae68ebc4"
      },
      "source": [
        "def sort(number1, number2):\n",
        "  if number1 < number2:\n",
        "    return number1, number2\n",
        "  else:\n",
        "    return number2, number1\n",
        "\n",
        "num1, num2 = sort(10, 26)\n",
        "\n",
        "print(\"num1 is\", num1)\n",
        "print(\"num2 is\", num2)"
      ],
      "execution_count": 10,
      "outputs": [
        {
          "output_type": "stream",
          "name": "stdout",
          "text": [
            "num1 is 10\n",
            "num2 is 26\n"
          ]
        }
      ]
    },
    {
      "cell_type": "code",
      "metadata": {
        "colab": {
          "base_uri": "https://localhost:8080/"
        },
        "id": "_6XYkD4AWu1k",
        "outputId": "3a0e889f-9971-45b8-8512-4848bbae7886"
      },
      "source": [
        "def sort(number1, number2, number3):\n",
        "  if (number1 < number2) and (number1 < number3):\n",
        "    if number2 < number3:\n",
        "      return number1, number2, number3\n",
        "    else:\n",
        "        return number1, number3, number2\n",
        "    if (number2 < number1) and (number2 < number3):\n",
        "      if number1 < number3:\n",
        "        return number2, number1, number3\n",
        "      else:\n",
        "          return number2, number3, number1\n",
        "    if (number3 < number1) and (number3 < number2):\n",
        "      if number1 < number2:\n",
        "        return number3, number1, number2\n",
        "      else:\n",
        "        return number3, number, number1\n",
        "\n",
        "num1, num2, num3  = sort(5, 6,8)\n",
        "\n",
        "print(\"num1 is\", num1)\n",
        "print(\"num2 is\", num2)\n",
        "print(\"num3 is\", num3)"
      ],
      "execution_count": 22,
      "outputs": [
        {
          "output_type": "stream",
          "name": "stdout",
          "text": [
            "num1 is 5\n",
            "num2 is 6\n",
            "num3 is 8\n"
          ]
        }
      ]
    },
    {
      "cell_type": "code",
      "metadata": {
        "colab": {
          "base_uri": "https://localhost:8080/"
        },
        "id": "eygsJF_4ZAxU",
        "outputId": "4c200bc9-0ebb-4c57-a249-aff002640fb1"
      },
      "source": [
        "def sort(number1, number2, number3):\n",
        "  if number1 < number2 < number3:\n",
        "    return number1, number2, number3\n",
        "  else:\n",
        "    return number3, number2, number1\n",
        "\n",
        "num1, num2, num3 = sort(10, 26,8)\n",
        "\n",
        "print(\"num1 is\", num1)\n",
        "print(\"num2 is\", num2)\n",
        "print(\"num3 is\", num3)"
      ],
      "execution_count": 26,
      "outputs": [
        {
          "output_type": "stream",
          "name": "stdout",
          "text": [
            "num1 is 8\n",
            "num2 is 26\n",
            "num3 is 10\n"
          ]
        }
      ]
    },
    {
      "cell_type": "code",
      "metadata": {
        "id": "yigFSJ_5Z_rR"
      },
      "source": [
        "#! /usr/bin/python\n",
        "# -*- coding: UTF-8 -*-\n",
        "\n",
        "def printArea(width = 50, height = 69):\n",
        "  area = width * height\n",
        "  print(\"width:\", width, \"\\theight:\", height, \"\\tarea:\", area)"
      ],
      "execution_count": 27,
      "outputs": []
    },
    {
      "cell_type": "markdown",
      "metadata": {
        "id": "OavmfA8Oar0y"
      },
      "source": [
        "**USE DEFAULT ARGUMENTS**"
      ]
    },
    {
      "cell_type": "code",
      "metadata": {
        "colab": {
          "base_uri": "https://localhost:8080/"
        },
        "id": "LPUZWqJgayRa",
        "outputId": "6765a1e6-10f9-4cc4-e8eb-29adfd48edd1"
      },
      "source": [
        "printArea()"
      ],
      "execution_count": 28,
      "outputs": [
        {
          "output_type": "stream",
          "name": "stdout",
          "text": [
            "width: 50 \theight: 69 \tarea: 3450\n"
          ]
        }
      ]
    },
    {
      "cell_type": "markdown",
      "metadata": {
        "id": "H67FWKTBa6HJ"
      },
      "source": [
        "**USE KEYWORD ARGUMENTS**"
      ]
    },
    {
      "cell_type": "code",
      "metadata": {
        "colab": {
          "base_uri": "https://localhost:8080/"
        },
        "id": "zAWofIoXa9ny",
        "outputId": "abbe23de-44d2-4aec-c151-e464c0f3d812"
      },
      "source": [
        "printArea(width = 50, height = 69)"
      ],
      "execution_count": 30,
      "outputs": [
        {
          "output_type": "stream",
          "name": "stdout",
          "text": [
            "width: 50 \theight: 69 \tarea: 3450\n"
          ]
        }
      ]
    },
    {
      "cell_type": "code",
      "metadata": {
        "colab": {
          "base_uri": "https://localhost:8080/"
        },
        "id": "QWIAaPlmbJey",
        "outputId": "76442cca-ebcb-4ef4-e12e-b367b6fdd247"
      },
      "source": [
        "printArea(height = 69, width = 50)"
      ],
      "execution_count": 31,
      "outputs": [
        {
          "output_type": "stream",
          "name": "stdout",
          "text": [
            "width: 50 \theight: 69 \tarea: 3450\n"
          ]
        }
      ]
    },
    {
      "cell_type": "markdown",
      "metadata": {
        "id": "S2n7YzD1bROS"
      },
      "source": [
        "**USE POSITIONAL ARGUMENTS**"
      ]
    },
    {
      "cell_type": "code",
      "metadata": {
        "colab": {
          "base_uri": "https://localhost:8080/"
        },
        "id": "59fP8sWAbUnA",
        "outputId": "a7645211-4d28-4353-c062-2eba3b2ca98b"
      },
      "source": [
        "printArea(50,69)"
      ],
      "execution_count": 32,
      "outputs": [
        {
          "output_type": "stream",
          "name": "stdout",
          "text": [
            "width: 50 \theight: 69 \tarea: 3450\n"
          ]
        }
      ]
    },
    {
      "cell_type": "code",
      "metadata": {
        "colab": {
          "base_uri": "https://localhost:8080/"
        },
        "id": "XoKGr3VdbaDR",
        "outputId": "6db2cce2-c75a-43a8-cc9d-2fc766af84a0"
      },
      "source": [
        "printArea(69,50)"
      ],
      "execution_count": 33,
      "outputs": [
        {
          "output_type": "stream",
          "name": "stdout",
          "text": [
            "width: 69 \theight: 50 \tarea: 3450\n"
          ]
        }
      ]
    },
    {
      "cell_type": "code",
      "metadata": {
        "colab": {
          "base_uri": "https://localhost:8080/"
        },
        "id": "kB_pNrXebd1C",
        "outputId": "6e73aeed-ab66-462a-a907-2a3444165819"
      },
      "source": [
        "fl = lambda x, y, z: x+2*y+3*z\n",
        "print(fl(200,400,600))"
      ],
      "execution_count": 34,
      "outputs": [
        {
          "output_type": "stream",
          "name": "stdout",
          "text": [
            "2800\n"
          ]
        }
      ]
    },
    {
      "cell_type": "code",
      "metadata": {
        "colab": {
          "base_uri": "https://localhost:8080/"
        },
        "id": "XdZ9DawHbtdQ",
        "outputId": "a68474a6-2a35-48d4-b0ef-7a61cab1f832"
      },
      "source": [
        "def myfunc(m):\n",
        "  return m*m\n",
        "\n",
        "my_list = [1, 3, 5, 7, 9, 11]\n",
        "\n",
        "## python map()\n",
        "\n",
        "print(list(map(lambda x:myfunc(x), my_list)))"
      ],
      "execution_count": 36,
      "outputs": [
        {
          "output_type": "stream",
          "name": "stdout",
          "text": [
            "[1, 9, 25, 49, 81, 121]\n"
          ]
        }
      ]
    }
  ]
}